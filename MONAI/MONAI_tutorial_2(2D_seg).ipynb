{
  "nbformat": 4,
  "nbformat_minor": 0,
  "metadata": {
    "colab": {
      "name": "MONAI_tutorial_2(2D_seg).ipynb",
      "provenance": [],
      "authorship_tag": "ABX9TyOMqjVLgUAdkj1iLMoyTSIT",
      "include_colab_link": true
    },
    "kernelspec": {
      "name": "python3",
      "display_name": "Python 3"
    },
    "language_info": {
      "name": "python"
    }
  },
  "cells": [
    {
      "cell_type": "markdown",
      "metadata": {
        "id": "view-in-github",
        "colab_type": "text"
      },
      "source": [
        "<a href=\"https://colab.research.google.com/github/akansh12/monai-tutorial/blob/main/MONAI/MONAI_tutorial_2(2D_seg).ipynb\" target=\"_parent\"><img src=\"https://colab.research.google.com/assets/colab-badge.svg\" alt=\"Open In Colab\"/></a>"
      ]
    },
    {
      "cell_type": "code",
      "execution_count": null,
      "metadata": {
        "id": "snnrCvBQFgoQ"
      },
      "outputs": [],
      "source": [
        "!python -c \"import monai\" || pip install -q \"monai-weekly[pillow, tqdm]\"\n",
        "!python -c \"import matplotlib\" || pip install -q matplotlib\n",
        "%matplotlib inline"
      ]
    },
    {
      "cell_type": "code",
      "source": [
        ""
      ],
      "metadata": {
        "id": "MhW_-QGAOLSL"
      },
      "execution_count": null,
      "outputs": []
    },
    {
      "cell_type": "markdown",
      "source": [
        "### What are these?\n",
        "- Decollate_batch\n",
        "- Dice Metric"
      ],
      "metadata": {
        "id": "oIDTlM4rOMo7"
      }
    },
    {
      "cell_type": "code",
      "source": [
        "import logging\n",
        "import os\n",
        "import sys\n",
        "import tempfile\n",
        "from glob import glob\n",
        "\n",
        "import torch\n",
        "from PIL import Image\n",
        "from torch.utils.data import DataLoader\n",
        "from torch.utils.tensorboard import SummaryWriter\n",
        "\n",
        "import monai\n",
        "from monai.data import ArrayDataset, create_test_image_2d, decollate_batch, list_data_collate\n",
        "from monai.inferers import sliding_window_inference\n",
        "from monai.metrics import DiceMetric\n",
        "from monai.transforms import (\n",
        "    Activations,\n",
        "    AddChanneld,\n",
        "    AsDiscrete,\n",
        "    Compose,\n",
        "    LoadImaged,\n",
        "    RandCropByPosNegLabeld,\n",
        "    RandRotate90d,\n",
        "    ScaleIntensityd,\n",
        "    EnsureTyped,\n",
        "    EnsureType,\n",
        ")\n",
        "from monai.visualize import plot_2d_or_3d_image\n"
      ],
      "metadata": {
        "id": "2aBJoGWBNgs7"
      },
      "execution_count": 32,
      "outputs": []
    },
    {
      "cell_type": "code",
      "source": [
        "import matplotlib.pyplot as plt"
      ],
      "metadata": {
        "id": "uZQnuNTbPqdG"
      },
      "execution_count": 16,
      "outputs": []
    },
    {
      "cell_type": "code",
      "source": [
        "monai.config.print_config()\n",
        "logging.basicConfig(stream=sys.stdout, level=logging.INFO)"
      ],
      "metadata": {
        "id": "sjTvSHtyO3Hk"
      },
      "execution_count": null,
      "outputs": []
    },
    {
      "cell_type": "code",
      "source": [
        ""
      ],
      "metadata": {
        "id": "HVSRUUf4O3KD"
      },
      "execution_count": null,
      "outputs": []
    },
    {
      "cell_type": "code",
      "source": [
        "# os.makedirs(\"./test_data/\")\n",
        "tempdir = \"./test_data\""
      ],
      "metadata": {
        "id": "_H9etx5-O3PY"
      },
      "execution_count": 11,
      "outputs": []
    },
    {
      "cell_type": "code",
      "source": [
        "# create a temporary directory and 40 random image, mask pairs\n",
        "print(f\"generating synthetic data to {tempdir} (this may take a while)\")\n",
        "for i in range(40):\n",
        "    im, seg = create_test_image_2d(128, 128, num_seg_classes=1)\n",
        "    Image.fromarray((im * 255).astype(\"uint8\")).save(os.path.join(tempdir, f\"img{i:d}.png\"))\n",
        "    Image.fromarray((seg * 255).astype(\"uint8\")).save(os.path.join(tempdir, f\"seg{i:d}.png\"))\n",
        "\n",
        "images = sorted(glob(os.path.join(tempdir, \"img*.png\")))\n",
        "segs = sorted(glob(os.path.join(tempdir, \"seg*.png\")))"
      ],
      "metadata": {
        "colab": {
          "base_uri": "https://localhost:8080/"
        },
        "id": "1SZ8PR1vNgwW",
        "outputId": "7b4b298b-ed9a-47de-831f-6dba94e25b60"
      },
      "execution_count": 12,
      "outputs": [
        {
          "output_type": "stream",
          "name": "stdout",
          "text": [
            "generating synthetic data to ./test_data (this may take a while)\n"
          ]
        }
      ]
    },
    {
      "cell_type": "code",
      "source": [
        "train_files = [{\"img\": img, \"seg\": seg} for img, seg in zip(images[:20], segs[:20])]\n",
        "val_files = [{\"img\": img, \"seg\": seg} for img, seg in zip(images[-20:], segs[-20:])]"
      ],
      "metadata": {
        "id": "C9pKx96CW0mp"
      },
      "execution_count": 27,
      "outputs": []
    },
    {
      "cell_type": "code",
      "source": [
        "eg_img = plt.imread(images[0])\n",
        "eg_label = plt.imread(segs[0])\n",
        "plt.imshow(eg_img)"
      ],
      "metadata": {
        "colab": {
          "base_uri": "https://localhost:8080/",
          "height": 285
        },
        "id": "Q1mjHWppNgzJ",
        "outputId": "591001b2-1838-4c2d-a432-70e61e593b8a"
      },
      "execution_count": 23,
      "outputs": [
        {
          "output_type": "execute_result",
          "data": {
            "text/plain": [
              "<matplotlib.image.AxesImage at 0x7faa05d6b390>"
            ]
          },
          "metadata": {},
          "execution_count": 23
        },
        {
          "output_type": "display_data",
          "data": {
            "text/plain": [
              "<Figure size 432x288 with 1 Axes>"
            ],
            "image/png": "[encoded data removed]"
          },
          "metadata": {
            "needs_background": "light"
          }
        }
      ]
    },
    {
      "cell_type": "code",
      "source": [
        "plt.imshow(eg_label)"
      ],
      "metadata": {
        "colab": {
          "base_uri": "https://localhost:8080/",
          "height": 285
        },
        "id": "0VSsbpLSQ9f7",
        "outputId": "ee268eaf-dcd9-44dd-be29-5ad0db54d98e"
      },
      "execution_count": 24,
      "outputs": [
        {
          "output_type": "execute_result",
          "data": {
            "text/plain": [
              "<matplotlib.image.AxesImage at 0x7faa05d572d0>"
            ]
          },
          "metadata": {},
          "execution_count": 24
        },
        {
          "output_type": "display_data",
          "data": {
            "text/plain": [
              "<Figure size 432x288 with 1 Axes>"
            ],
            "image/png": "[encoded data removed]"
          },
          "metadata": {
            "needs_background": "light"
          }
        }
      ]
    },
    {
      "cell_type": "code",
      "source": [
        "eg_label.shape"
      ],
      "metadata": {
        "colab": {
          "base_uri": "https://localhost:8080/"
        },
        "id": "icYVupWpRHzE",
        "outputId": "8cf5c530-ed2a-49c5-e4fa-21397b207732"
      },
      "execution_count": 25,
      "outputs": [
        {
          "output_type": "execute_result",
          "data": {
            "text/plain": [
              "(128, 128)"
            ]
          },
          "metadata": {},
          "execution_count": 25
        }
      ]
    },
    {
      "cell_type": "code",
      "source": [
        "train_transforms = Compose(\n",
        "    [\n",
        "        LoadImaged(keys=[\"img\", \"seg\"]),\n",
        "        AddChanneld(keys=[\"img\", \"seg\"]),\n",
        "        ScaleIntensityd(keys=[\"img\", \"seg\"]),\n",
        "        RandCropByPosNegLabeld(\n",
        "            keys=[\"img\", \"seg\"], label_key=\"seg\", spatial_size=[96, 96], pos=1, neg=1, num_samples=4\n",
        "        ),\n",
        "        RandRotate90d(keys=[\"img\", \"seg\"], prob=0.5, spatial_axes=[0, 1]),\n",
        "        EnsureTyped(keys=[\"img\", \"seg\"]),\n",
        "    ]\n",
        ")\n",
        "val_transforms = Compose(\n",
        "    [\n",
        "        LoadImaged(keys=[\"img\", \"seg\"]),\n",
        "        AddChanneld(keys=[\"img\", \"seg\"]),\n",
        "        ScaleIntensityd(keys=[\"img\", \"seg\"]),\n",
        "        EnsureTyped(keys=[\"img\", \"seg\"]),\n",
        "    ]\n",
        ")\n",
        "\n",
        "post_trans = Compose([EnsureType(), Activations(sigmoid=True), AsDiscrete(threshold=0.5)])\n",
        "\n"
      ],
      "metadata": {
        "id": "9plp5QCMNg1y"
      },
      "execution_count": 67,
      "outputs": []
    },
    {
      "cell_type": "code",
      "source": [
        "check_ds = monai.data.Dataset(data=train_files, transform=train_transforms)\n",
        "# use batch_size=2 to load images and use RandCropByPosNegLabeld to generate 2 x 4 images for network training\n",
        "check_loader = DataLoader(check_ds, batch_size=2, num_workers=2, collate_fn=list_data_collate)\n",
        "check_data = monai.utils.misc.first(check_loader)\n",
        "print(check_data[\"img\"].shape, check_data[\"seg\"].shape)\n"
      ],
      "metadata": {
        "colab": {
          "base_uri": "https://localhost:8080/"
        },
        "id": "UMcSaEmaNg4h",
        "outputId": "83afa7ef-8f08-4162-9722-5d68810aa373"
      },
      "execution_count": 68,
      "outputs": [
        {
          "output_type": "stream",
          "name": "stdout",
          "text": [
            "torch.Size([8, 1, 96, 96]) torch.Size([8, 1, 96, 96])\n"
          ]
        }
      ]
    },
    {
      "cell_type": "code",
      "source": [
        "train_ds = monai.data.Dataset(data=train_files, transform=train_transforms)\n",
        "train_loader = DataLoader(\n",
        "    train_ds,\n",
        "    batch_size=2,\n",
        "    shuffle=True,\n",
        "    num_workers=2,\n",
        "    collate_fn=list_data_collate,\n",
        "    pin_memory=torch.cuda.is_available(),\n",
        ")\n",
        "val_ds = monai.data.Dataset(data=val_files, transform=val_transforms)\n",
        "val_loader = DataLoader(val_ds, batch_size=1, num_workers=2, collate_fn=list_data_collate)"
      ],
      "metadata": {
        "id": "tnRFE3uJNg9o"
      },
      "execution_count": 69,
      "outputs": []
    },
    {
      "cell_type": "code",
      "source": [
        "dice_metric = DiceMetric(include_background=True, reduction=\"mean\", get_not_nans=False)"
      ],
      "metadata": {
        "id": "wHzqc3rlNg_7"
      },
      "execution_count": 70,
      "outputs": []
    },
    {
      "cell_type": "code",
      "source": [
        "device = torch.device(\"cuda\" if torch.cuda.is_available() else \"cpu\")"
      ],
      "metadata": {
        "id": "zE4YHoezZvvz"
      },
      "execution_count": 71,
      "outputs": []
    },
    {
      "cell_type": "code",
      "source": [
        "model = monai.networks.nets.UNet(\n",
        "      spatial_dims=2,\n",
        "      in_channels=1,\n",
        "      out_channels=1,\n",
        "      channels=(16, 32, 64, 128, 256),\n",
        "      strides=(2, 2, 2, 2),\n",
        "      num_res_units=2,\n",
        "  ).to(device)"
      ],
      "metadata": {
        "id": "4N7TYKMgZvyN"
      },
      "execution_count": 72,
      "outputs": []
    },
    {
      "cell_type": "code",
      "source": [
        "for batch_data in train_loader:\n",
        "  img, label = batch_data[\"img\"].to(device), batch_data[\"seg\"].to(device)\n",
        "  break"
      ],
      "metadata": {
        "id": "1YS-hXehcBOh"
      },
      "execution_count": 73,
      "outputs": []
    },
    {
      "cell_type": "code",
      "source": [
        "loss_function = monai.losses.DiceLoss(sigmoid=True)\n",
        "optimizer = torch.optim.Adam(model.parameters(), 1e-3)"
      ],
      "metadata": {
        "id": "zoYHZluEZv2x"
      },
      "execution_count": 74,
      "outputs": []
    },
    {
      "cell_type": "code",
      "source": [
        "from pickle import decode_long\n",
        "val_interval = 2\n",
        "best_metric = -1\n",
        "best_metric_epoch = -1\n",
        "epoch_loss_values = []\n",
        "metric_values = []\n",
        "writer = SummaryWriter()\n",
        "for epoch in range(10):\n",
        "  model.train()\n",
        "  epoch_loss = 0\n",
        "  step = 0\n",
        "  for batch_data in train_loader:\n",
        "    step += 1\n",
        "    inputs, labels = batch_data['img'].to(device), batch_data['seg'].to(device)\n",
        "    outputs = model(inputs)\n",
        "    optimizer.zero_grad()\n",
        "    loss = loss_function(outputs, labels)\n",
        "    loss.backward()\n",
        "    optimizer.step()\n",
        "    epoch_loss += loss.item()\n",
        "    epoch_len = len(train_ds) // train_loader.batch_size\n",
        "    print(f\"{step}/{epoch_len}, train_loss: {loss.item():.4f}\")\n",
        "    writer.add_scalar(\"train_loss\", loss.item(), epoch_len * epoch + step)\n",
        "  epoch_loss /= step\n",
        "  epoch_loss_values.append(epoch_loss)\n",
        "  print(f\"epoch {epoch + 1} average loss: {epoch_loss:.4f}\")\n",
        "\n",
        "  if (epoch + 1) % val_interval == 0: \n",
        "    model.eval();\n",
        "    with torch.no_grad():\n",
        "      val_image = None\n",
        "      val_label = None\n",
        "      val_outputs = None\n",
        "      for val_data in val_loader:\n",
        "        val_images, val_labels = val_data['img'].to(device), val_data['seg'].to(device)\n",
        "        roi_size = (96,96)\n",
        "        sw_batch_size = 4\n",
        "        val_outputs = sliding_window_inference(val_images, roi_size, sw_batch_size, model)\n",
        "        val_outputs = [post_trans(i) for i in decollate_batch(val_outputs)]\n",
        "\n",
        "        dice_metric(y_pred = val_outputs, y = val_labels)\n",
        "\n",
        "      metric = dice_metric.aggregate().item()\n",
        "      dice_metric.reset()\n",
        "      metric_values.append(metric)\n",
        "      if metric > best_metric:\n",
        "        best_metric = metric\n",
        "        best_metric_epoch = epoch + 1\n",
        "\n",
        "        torch.save(model.state_dict(), \"best_metric_model_segmentation2d_dict.pth\")\n",
        "        print(\"saved new best metric model\")\n",
        "      print(\n",
        "          \"current epoch: {} current mean dice: {:.4f} best mean dice: {:.4f} at epoch {}\".format(\n",
        "              epoch + 1, metric, best_metric, best_metric_epoch\n",
        "          )\n",
        "      )\n",
        "      writer.add_scalar(\"val_mean_dice\", metric, epoch + 1)\n",
        "              # plot the last model output as GIF image in TensorBoard with the corresponding image and label\n",
        "      plot_2d_or_3d_image(val_images, epoch + 1, writer, index=0, tag=\"image\")\n",
        "      plot_2d_or_3d_image(val_labels, epoch + 1, writer, index=0, tag=\"label\")\n",
        "      plot_2d_or_3d_image(val_outputs, epoch + 1, writer, index=0, tag=\"output\")\n",
        "\n",
        "print(f\"train completed, best_metric: {best_metric:.4f} at epoch: {best_metric_epoch}\")\n",
        "writer.close()\n",
        "\n",
        "\n",
        "\n",
        "\n",
        "          \n",
        "\n",
        "\n",
        "\n",
        "\n",
        "\n",
        "\n",
        "\n",
        "\n"
      ],
      "metadata": {
        "colab": {
          "base_uri": "https://localhost:8080/"
        },
        "id": "R1HHKxJkZv5w",
        "outputId": "1924195f-c718-4acf-82b8-6d5c4d8fd89a"
      },
      "execution_count": 78,
      "outputs": [
        {
          "output_type": "stream",
          "name": "stdout",
          "text": [
            "1/10, train_loss: 0.2071\n",
            "2/10, train_loss: 0.1723\n",
            "3/10, train_loss: 0.1815\n",
            "4/10, train_loss: 0.1811\n",
            "5/10, train_loss: 0.1822\n",
            "6/10, train_loss: 0.1925\n",
            "7/10, train_loss: 0.2345\n",
            "8/10, train_loss: 0.2386\n",
            "9/10, train_loss: 0.1945\n",
            "10/10, train_loss: 0.1891\n",
            "epoch 1 average loss: 0.1973\n",
            "1/10, train_loss: 0.2224\n",
            "2/10, train_loss: 0.1691\n",
            "3/10, train_loss: 0.1874\n",
            "4/10, train_loss: 0.1717\n",
            "5/10, train_loss: 0.2229\n",
            "6/10, train_loss: 0.1826\n",
            "7/10, train_loss: 0.1790\n",
            "8/10, train_loss: 0.1890\n",
            "9/10, train_loss: 0.1680\n",
            "10/10, train_loss: 0.1840\n",
            "epoch 2 average loss: 0.1876\n",
            "saved new best metric model\n",
            "current epoch: 2 current mean dice: 0.9622 best mean dice: 0.9622 at epoch 2\n",
            "1/10, train_loss: 0.1731\n",
            "2/10, train_loss: 0.1546\n",
            "3/10, train_loss: 0.1809\n",
            "4/10, train_loss: 0.1629\n",
            "5/10, train_loss: 0.1778\n",
            "6/10, train_loss: 0.1684\n",
            "7/10, train_loss: 0.1853\n",
            "8/10, train_loss: 0.1958\n",
            "9/10, train_loss: 0.1739\n",
            "10/10, train_loss: 0.1647\n",
            "epoch 3 average loss: 0.1737\n",
            "1/10, train_loss: 0.1689\n",
            "2/10, train_loss: 0.1688\n",
            "3/10, train_loss: 0.1845\n",
            "4/10, train_loss: 0.1692\n",
            "5/10, train_loss: 0.1565\n",
            "6/10, train_loss: 0.1821\n",
            "7/10, train_loss: 0.1585\n",
            "8/10, train_loss: 0.1500\n",
            "9/10, train_loss: 0.1601\n",
            "10/10, train_loss: 0.1490\n",
            "epoch 4 average loss: 0.1648\n",
            "saved new best metric model\n",
            "current epoch: 4 current mean dice: 0.9786 best mean dice: 0.9786 at epoch 4\n",
            "1/10, train_loss: 0.1662\n",
            "2/10, train_loss: 0.1376\n",
            "3/10, train_loss: 0.1439\n",
            "4/10, train_loss: 0.1822\n",
            "5/10, train_loss: 0.1612\n",
            "6/10, train_loss: 0.1705\n",
            "7/10, train_loss: 0.1823\n",
            "8/10, train_loss: 0.2024\n",
            "9/10, train_loss: 0.1555\n",
            "10/10, train_loss: 0.1502\n",
            "epoch 5 average loss: 0.1652\n",
            "1/10, train_loss: 0.1585\n",
            "2/10, train_loss: 0.1460\n",
            "3/10, train_loss: 0.1715\n",
            "4/10, train_loss: 0.1663\n",
            "5/10, train_loss: 0.1682\n",
            "6/10, train_loss: 0.1443\n",
            "7/10, train_loss: 0.1407\n",
            "8/10, train_loss: 0.1421\n",
            "9/10, train_loss: 0.1453\n",
            "10/10, train_loss: 0.1623\n",
            "epoch 6 average loss: 0.1545\n",
            "saved new best metric model\n",
            "current epoch: 6 current mean dice: 0.9812 best mean dice: 0.9812 at epoch 6\n",
            "1/10, train_loss: 0.1355\n",
            "2/10, train_loss: 0.1316\n",
            "3/10, train_loss: 0.1475\n",
            "4/10, train_loss: 0.1479\n",
            "5/10, train_loss: 0.1361\n",
            "6/10, train_loss: 0.1255\n",
            "7/10, train_loss: 0.1496\n",
            "8/10, train_loss: 0.1557\n",
            "9/10, train_loss: 0.1588\n",
            "10/10, train_loss: 0.1962\n",
            "epoch 7 average loss: 0.1484\n",
            "1/10, train_loss: 0.1577\n",
            "2/10, train_loss: 0.1172\n",
            "3/10, train_loss: 0.1483\n",
            "4/10, train_loss: 0.1411\n",
            "5/10, train_loss: 0.1403\n",
            "6/10, train_loss: 0.1283\n",
            "7/10, train_loss: 0.1562\n",
            "8/10, train_loss: 0.1293\n",
            "9/10, train_loss: 0.1313\n",
            "10/10, train_loss: 0.1404\n",
            "epoch 8 average loss: 0.1390\n",
            "saved new best metric model\n",
            "current epoch: 8 current mean dice: 0.9840 best mean dice: 0.9840 at epoch 8\n",
            "1/10, train_loss: 0.1480\n",
            "2/10, train_loss: 0.1585\n",
            "3/10, train_loss: 0.1318\n",
            "4/10, train_loss: 0.1607\n",
            "5/10, train_loss: 0.1160\n",
            "6/10, train_loss: 0.1125\n",
            "7/10, train_loss: 0.1361\n",
            "8/10, train_loss: 0.1156\n",
            "9/10, train_loss: 0.1236\n",
            "10/10, train_loss: 0.1561\n",
            "epoch 9 average loss: 0.1359\n",
            "1/10, train_loss: 0.1210\n",
            "2/10, train_loss: 0.1387\n",
            "3/10, train_loss: 0.1346\n",
            "4/10, train_loss: 0.1225\n",
            "5/10, train_loss: 0.1236\n",
            "6/10, train_loss: 0.1235\n",
            "7/10, train_loss: 0.1121\n",
            "8/10, train_loss: 0.1287\n",
            "9/10, train_loss: 0.1060\n",
            "10/10, train_loss: 0.1630\n",
            "epoch 10 average loss: 0.1274\n",
            "saved new best metric model\n",
            "current epoch: 10 current mean dice: 0.9861 best mean dice: 0.9861 at epoch 10\n",
            "train completed, best_metric: 0.9861 at epoch: 10\n"
          ]
        }
      ]
    },
    {
      "cell_type": "code",
      "source": [
        ""
      ],
      "metadata": {
        "colab": {
          "base_uri": "https://localhost:8080/"
        },
        "id": "Vc9H8ct2bc_J",
        "outputId": "4e7b2851-7f9a-461c-9f13-c08ebc1a9f68"
      },
      "execution_count": 76,
      "outputs": [
        {
          "output_type": "execute_result",
          "data": {
            "text/plain": [
              "1.3333333333333333"
            ]
          },
          "metadata": {},
          "execution_count": 76
        }
      ]
    },
    {
      "cell_type": "code",
      "source": [
        ""
      ],
      "metadata": {
        "id": "bFpYW1UglSNE"
      },
      "execution_count": null,
      "outputs": []
    }
  ]
}