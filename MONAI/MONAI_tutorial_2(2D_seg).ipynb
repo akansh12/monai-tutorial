{
  "nbformat": 4,
  "nbformat_minor": 0,
  "metadata": {
    "colab": {
      "name": "MONAI_tutorial_2(2D_seg).ipynb",
      "provenance": [],
      "authorship_tag": "ABX9TyP+9APEMJ28VTKHdgLsbtn3",
      "include_colab_link": true
    },
    "kernelspec": {
      "name": "python3",
      "display_name": "Python 3"
    },
    "language_info": {
      "name": "python"
    },
    "accelerator": "GPU"
  },
  "cells": [
    {
      "cell_type": "markdown",
      "metadata": {
        "id": "view-in-github",
        "colab_type": "text"
      },
      "source": [
        "<a href=\"https://colab.research.google.com/github/akansh12/monai-tutorial/blob/main/MONAI/MONAI_tutorial_2(2D_seg).ipynb\" target=\"_parent\"><img src=\"https://colab.research.google.com/assets/colab-badge.svg\" alt=\"Open In Colab\"/></a>"
      ]
    },
    {
      "cell_type": "code",
      "execution_count": 1,
      "metadata": {
        "colab": {
          "base_uri": "https://localhost:8080/"
        },
        "id": "snnrCvBQFgoQ",
        "outputId": "dca6dba7-7de1-482c-e636-342ccd5d21f4"
      },
      "outputs": [
        {
          "output_type": "stream",
          "name": "stdout",
          "text": [
            "Traceback (most recent call last):\n",
            "  File \"<string>\", line 1, in <module>\n",
            "ModuleNotFoundError: No module named 'monai'\n",
            "\u001b[K     |████████████████████████████████| 816 kB 7.3 MB/s \n",
            "\u001b[?25h"
          ]
        }
      ],
      "source": [
        "!python -c \"import monai\" || pip install -q \"monai-weekly[pillow, tqdm]\"\n",
        "!python -c \"import matplotlib\" || pip install -q matplotlib\n",
        "%matplotlib inline"
      ]
    },
    {
      "cell_type": "code",
      "source": [
        ""
      ],
      "metadata": {
        "id": "MhW_-QGAOLSL"
      },
      "execution_count": 1,
      "outputs": []
    },
    {
      "cell_type": "markdown",
      "source": [
        "### What are these?\n",
        "- Decollate_batch\n",
        "- Dice Metric"
      ],
      "metadata": {
        "id": "oIDTlM4rOMo7"
      }
    },
    {
      "cell_type": "code",
      "source": [
        "import logging\n",
        "import os\n",
        "import sys\n",
        "import tempfile\n",
        "from glob import glob\n",
        "\n",
        "import torch\n",
        "from PIL import Image\n",
        "from torch.utils.data import DataLoader\n",
        "from torch.utils.tensorboard import SummaryWriter\n",
        "\n",
        "import monai\n",
        "from monai.data import ArrayDataset, create_test_image_2d, decollate_batch, list_data_collate\n",
        "from monai.inferers import sliding_window_inference\n",
        "from monai.metrics import DiceMetric\n",
        "from monai.transforms import (\n",
        "    Activations,\n",
        "    AddChanneld,\n",
        "    AsDiscrete,\n",
        "    Compose,\n",
        "    LoadImaged,\n",
        "    RandCropByPosNegLabeld,\n",
        "    RandRotate90d,\n",
        "    ScaleIntensityd,\n",
        "    EnsureTyped,\n",
        "    EnsureType,\n",
        ")\n",
        "from monai.visualize import plot_2d_or_3d_image\n"
      ],
      "metadata": {
        "id": "2aBJoGWBNgs7"
      },
      "execution_count": 2,
      "outputs": []
    },
    {
      "cell_type": "code",
      "source": [
        "import matplotlib.pyplot as plt"
      ],
      "metadata": {
        "id": "uZQnuNTbPqdG"
      },
      "execution_count": 3,
      "outputs": []
    },
    {
      "cell_type": "code",
      "source": [
        "monai.config.print_config()\n",
        "logging.basicConfig(stream=sys.stdout, level=logging.INFO)"
      ],
      "metadata": {
        "id": "sjTvSHtyO3Hk"
      },
      "execution_count": null,
      "outputs": []
    },
    {
      "cell_type": "code",
      "source": [
        ""
      ],
      "metadata": {
        "id": "HVSRUUf4O3KD"
      },
      "execution_count": 4,
      "outputs": []
    },
    {
      "cell_type": "code",
      "source": [
        "os.makedirs(\"./test_data/\")\n",
        "tempdir = \"./test_data\""
      ],
      "metadata": {
        "id": "_H9etx5-O3PY"
      },
      "execution_count": 7,
      "outputs": []
    },
    {
      "cell_type": "code",
      "source": [
        "# create a temporary directory and 40 random image, mask pairs\n",
        "print(f\"generating synthetic data to {tempdir} (this may take a while)\")\n",
        "for i in range(40):\n",
        "    im, seg = create_test_image_2d(128, 128, num_seg_classes=1)\n",
        "    Image.fromarray((im * 255).astype(\"uint8\")).save(os.path.join(tempdir, f\"img{i:d}.png\"))\n",
        "    Image.fromarray((seg * 255).astype(\"uint8\")).save(os.path.join(tempdir, f\"seg{i:d}.png\"))\n",
        "\n",
        "images = sorted(glob(os.path.join(tempdir, \"img*.png\")))\n",
        "segs = sorted(glob(os.path.join(tempdir, \"seg*.png\")))"
      ],
      "metadata": {
        "colab": {
          "base_uri": "https://localhost:8080/"
        },
        "id": "1SZ8PR1vNgwW",
        "outputId": "3f4b3538-21a2-4039-f987-807bfa69942d"
      },
      "execution_count": 8,
      "outputs": [
        {
          "output_type": "stream",
          "name": "stdout",
          "text": [
            "generating synthetic data to ./test_data (this may take a while)\n"
          ]
        }
      ]
    },
    {
      "cell_type": "code",
      "source": [
        "train_files = [{\"img\": img, \"seg\": seg} for img, seg in zip(images[:20], segs[:20])]\n",
        "val_files = [{\"img\": img, \"seg\": seg} for img, seg in zip(images[-20:], segs[-20:])]"
      ],
      "metadata": {
        "id": "C9pKx96CW0mp"
      },
      "execution_count": 9,
      "outputs": []
    },
    {
      "cell_type": "code",
      "source": [
        "eg_img = plt.imread(images[0])\n",
        "eg_label = plt.imread(segs[0])\n",
        "plt.imshow(eg_img)"
      ],
      "metadata": {
        "colab": {
          "base_uri": "https://localhost:8080/",
          "height": 285
        },
        "id": "Q1mjHWppNgzJ",
        "outputId": "1a1dc4e0-79db-4526-b97e-7d5deb916a4b"
      },
      "execution_count": 10,
      "outputs": [
        {
          "output_type": "execute_result",
          "data": {
            "text/plain": [
              "<matplotlib.image.AxesImage at 0x7f6ccb5b8190>"
            ]
          },
          "metadata": {},
          "execution_count": 10
        },
        {
          "output_type": "display_data",
          "data": {
            "text/plain": [
              "<Figure size 432x288 with 1 Axes>"
            ],
            "image/png": "[encoded data removed]"
          },
          "metadata": {
            "needs_background": "light"
          }
        }
      ]
    },
    {
      "cell_type": "code",
      "source": [
        "plt.imshow(eg_label)"
      ],
      "metadata": {
        "colab": {
          "base_uri": "https://localhost:8080/",
          "height": 285
        },
        "id": "0VSsbpLSQ9f7",
        "outputId": "abe7bfa6-ec43-4c33-eb2d-4af17333dc5a"
      },
      "execution_count": 11,
      "outputs": [
        {
          "output_type": "execute_result",
          "data": {
            "text/plain": [
              "<matplotlib.image.AxesImage at 0x7f6ccb0b1250>"
            ]
          },
          "metadata": {},
          "execution_count": 11
        },
        {
          "output_type": "display_data",
          "data": {
            "text/plain": [
              "<Figure size 432x288 with 1 Axes>"
            ],
            "image/png": "[encoded data removed]"
          },
          "metadata": {
            "needs_background": "light"
          }
        }
      ]
    },
    {
      "cell_type": "code",
      "source": [
        "eg_label.shape"
      ],
      "metadata": {
        "colab": {
          "base_uri": "https://localhost:8080/"
        },
        "id": "icYVupWpRHzE",
        "outputId": "7ed4b0ab-81ff-4008-b532-b1b25ad44987"
      },
      "execution_count": 12,
      "outputs": [
        {
          "output_type": "execute_result",
          "data": {
            "text/plain": [
              "(128, 128)"
            ]
          },
          "metadata": {},
          "execution_count": 12
        }
      ]
    },
    {
      "cell_type": "code",
      "source": [
        "train_transforms = Compose(\n",
        "    [\n",
        "        LoadImaged(keys=[\"img\", \"seg\"]),\n",
        "        AddChanneld(keys=[\"img\", \"seg\"]),\n",
        "        ScaleIntensityd(keys=[\"img\", \"seg\"]),\n",
        "        # RandCropByPosNegLabeld(\n",
        "        #     keys=[\"img\", \"seg\"], label_key=\"seg\", spatial_size=[96, 96], pos=1, neg=1, num_samples=4\n",
        "        # ),\n",
        "        RandRotate90d(keys=[\"img\", \"seg\"], prob=0.5, spatial_axes=[0, 1]),\n",
        "        EnsureTyped(keys=[\"img\", \"seg\"]),\n",
        "    ]\n",
        ")\n",
        "val_transforms = Compose(\n",
        "    [\n",
        "        LoadImaged(keys=[\"img\", \"seg\"]),\n",
        "        AddChanneld(keys=[\"img\", \"seg\"]),\n",
        "        ScaleIntensityd(keys=[\"img\", \"seg\"]),\n",
        "        EnsureTyped(keys=[\"img\", \"seg\"]),\n",
        "    ]\n",
        ")\n",
        "\n",
        "post_trans = Compose([EnsureType(), Activations(sigmoid=True), AsDiscrete(threshold=0.5)])\n",
        "\n"
      ],
      "metadata": {
        "id": "9plp5QCMNg1y"
      },
      "execution_count": 29,
      "outputs": []
    },
    {
      "cell_type": "code",
      "source": [
        "check_ds = monai.data.Dataset(data=train_files, transform=train_transforms)\n",
        "# use batch_size=2 to load images and use RandCropByPosNegLabeld to generate 2 x 4 images for network training\n",
        "check_loader = DataLoader(check_ds, batch_size=2, num_workers=2, collate_fn=list_data_collate)\n",
        "check_data = monai.utils.misc.first(check_loader)\n",
        "print(check_data[\"img\"].shape, check_data[\"seg\"].shape)\n"
      ],
      "metadata": {
        "colab": {
          "base_uri": "https://localhost:8080/"
        },
        "id": "UMcSaEmaNg4h",
        "outputId": "e74db039-b072-4fa7-dfd8-8b304ceee80c"
      },
      "execution_count": 30,
      "outputs": [
        {
          "output_type": "stream",
          "name": "stdout",
          "text": [
            "torch.Size([2, 1, 128, 128]) torch.Size([2, 1, 128, 128])\n"
          ]
        }
      ]
    },
    {
      "cell_type": "code",
      "source": [
        "train_ds = monai.data.Dataset(data=train_files, transform=train_transforms)\n",
        "train_loader = DataLoader(\n",
        "    train_ds,\n",
        "    batch_size=2,\n",
        "    shuffle=True,\n",
        "    num_workers=2,\n",
        "    collate_fn=list_data_collate,\n",
        "    pin_memory=torch.cuda.is_available(),\n",
        ")\n",
        "val_ds = monai.data.Dataset(data=val_files, transform=val_transforms)\n",
        "val_loader = DataLoader(val_ds, batch_size=1, num_workers=2, collate_fn=list_data_collate)"
      ],
      "metadata": {
        "id": "tnRFE3uJNg9o"
      },
      "execution_count": 35,
      "outputs": []
    },
    {
      "cell_type": "code",
      "source": [
        "dice_metric = DiceMetric(include_background=True, reduction=\"mean\", get_not_nans=False)"
      ],
      "metadata": {
        "id": "wHzqc3rlNg_7"
      },
      "execution_count": 36,
      "outputs": []
    },
    {
      "cell_type": "code",
      "source": [
        "device = torch.device(\"cuda\" if torch.cuda.is_available() else \"cpu\")"
      ],
      "metadata": {
        "id": "zE4YHoezZvvz"
      },
      "execution_count": 37,
      "outputs": []
    },
    {
      "cell_type": "code",
      "source": [
        "model = monai.networks.nets.UNet(\n",
        "      spatial_dims=2,\n",
        "      in_channels=1,\n",
        "      out_channels=1,\n",
        "      channels=(16, 32, 64, 128, 256),\n",
        "      strides=(2, 2, 2, 2),\n",
        "      num_res_units=2,\n",
        "  ).to(device)"
      ],
      "metadata": {
        "id": "4N7TYKMgZvyN"
      },
      "execution_count": 38,
      "outputs": []
    },
    {
      "cell_type": "code",
      "source": [
        "for batch_data in train_loader:\n",
        "  img, label = batch_data[\"img\"].to(device), batch_data[\"seg\"].to(device)\n",
        "  break"
      ],
      "metadata": {
        "id": "1YS-hXehcBOh"
      },
      "execution_count": 39,
      "outputs": []
    },
    {
      "cell_type": "code",
      "source": [
        "!pip install torchviz\n",
        "from torchviz import make_dot"
      ],
      "metadata": {
        "id": "-Z5fiCahcPeZ"
      },
      "execution_count": null,
      "outputs": []
    },
    {
      "cell_type": "code",
      "source": [
        "x = torch.zeros(1, 1, 128, 128, dtype=torch.float, requires_grad=False)\n",
        "out = model(x.to(device))\n",
        "make_dot(out)"
      ],
      "metadata": {
        "id": "ok8OlcngbvYV"
      },
      "execution_count": null,
      "outputs": []
    },
    {
      "cell_type": "code",
      "source": [
        "post_trans(out).shape"
      ],
      "metadata": {
        "colab": {
          "base_uri": "https://localhost:8080/"
        },
        "id": "onTIt27ni1qy",
        "outputId": "27f5d1fd-92f7-4405-92ea-b425294f15cb"
      },
      "execution_count": 45,
      "outputs": [
        {
          "output_type": "execute_result",
          "data": {
            "text/plain": [
              "torch.Size([1, 1, 128, 128])"
            ]
          },
          "metadata": {},
          "execution_count": 45
        }
      ]
    },
    {
      "cell_type": "code",
      "source": [
        "loss_function = monai.losses.DiceLoss(sigmoid=True)\n",
        "optimizer = torch.optim.Adam(model.parameters(), 1e-3)"
      ],
      "metadata": {
        "id": "zoYHZluEZv2x"
      },
      "execution_count": 41,
      "outputs": []
    },
    {
      "cell_type": "code",
      "source": [
        "from pickle import decode_long\n",
        "val_interval = 2\n",
        "best_metric = -1\n",
        "best_metric_epoch = -1\n",
        "epoch_loss_values = []\n",
        "metric_values = []\n",
        "writer = SummaryWriter()\n",
        "for epoch in range(10):\n",
        "  model.train()\n",
        "  epoch_loss = 0\n",
        "  step = 0\n",
        "  for batch_data in train_loader:\n",
        "    step += 1\n",
        "    inputs, labels = batch_data['img'].to(device), batch_data['seg'].to(device)\n",
        "    outputs = model(inputs)\n",
        "    optimizer.zero_grad()\n",
        "    loss = loss_function(outputs, labels)\n",
        "    loss.backward()\n",
        "    optimizer.step()\n",
        "    epoch_loss += loss.item()\n",
        "    epoch_len = len(train_ds) // train_loader.batch_size\n",
        "    print(f\"{step}/{epoch_len}, train_loss: {loss.item():.4f}\")\n",
        "    writer.add_scalar(\"train_loss\", loss.item(), epoch_len * epoch + step)\n",
        "  epoch_loss /= step\n",
        "  epoch_loss_values.append(epoch_loss)\n",
        "  print(f\"epoch {epoch + 1} average loss: {epoch_loss:.4f}\")\n",
        "\n",
        "  if (epoch + 1) % val_interval == 0: \n",
        "    model.eval();\n",
        "    with torch.no_grad():\n",
        "      val_image = None\n",
        "      val_label = None\n",
        "      val_outputs = None\n",
        "      for val_data in val_loader:\n",
        "        val_images, val_labels = val_data['img'].to(device), val_data['seg'].to(device)\n",
        "        # roi_size = (96,96)\n",
        "        # sw_batch_size = 4\n",
        "        # val_outputs = sliding_window_inference(val_images, roi_size, sw_batch_size, model)\n",
        "        # val_outputs = [post_trans(i) for i in decollate_batch(val_outputs)]\n",
        "        val_outputs = post_trans(model(val_images))\n",
        "\n",
        "        dice_metric(y_pred = val_outputs, y = val_labels)\n",
        "\n",
        "      metric = dice_metric.aggregate().item()\n",
        "      dice_metric.reset()\n",
        "      metric_values.append(metric)\n",
        "      if metric > best_metric:\n",
        "        best_metric = metric\n",
        "        best_metric_epoch = epoch + 1\n",
        "\n",
        "        torch.save(model.state_dict(), \"best_metric_model_segmentation2d_dict.pth\")\n",
        "        print(\"saved new best metric model\")\n",
        "      print(\n",
        "          \"current epoch: {} current mean dice: {:.4f} best mean dice: {:.4f} at epoch {}\".format(\n",
        "              epoch + 1, metric, best_metric, best_metric_epoch\n",
        "          )\n",
        "      )\n",
        "      writer.add_scalar(\"val_mean_dice\", metric, epoch + 1)\n",
        "              # plot the last model output as GIF image in TensorBoard with the corresponding image and label\n",
        "      plot_2d_or_3d_image(val_images, epoch + 1, writer, index=0, tag=\"image\")\n",
        "      plot_2d_or_3d_image(val_labels, epoch + 1, writer, index=0, tag=\"label\")\n",
        "      plot_2d_or_3d_image(val_outputs, epoch + 1, writer, index=0, tag=\"output\")\n",
        "\n",
        "print(f\"train completed, best_metric: {best_metric:.4f} at epoch: {best_metric_epoch}\")\n",
        "writer.close()\n"
      ],
      "metadata": {
        "colab": {
          "base_uri": "https://localhost:8080/"
        },
        "id": "R1HHKxJkZv5w",
        "outputId": "d306426f-d01f-49d3-a452-0b31983c8674"
      },
      "execution_count": 46,
      "outputs": [
        {
          "output_type": "stream",
          "name": "stdout",
          "text": [
            "1/10, train_loss: 0.4692\n",
            "2/10, train_loss: 0.4124\n",
            "3/10, train_loss: 0.3647\n",
            "4/10, train_loss: 0.3202\n",
            "5/10, train_loss: 0.3331\n",
            "6/10, train_loss: 0.3480\n",
            "7/10, train_loss: 0.3943\n",
            "8/10, train_loss: 0.3220\n",
            "9/10, train_loss: 0.2962\n",
            "10/10, train_loss: 0.3140\n",
            "epoch 1 average loss: 0.3574\n",
            "1/10, train_loss: 0.3244\n",
            "2/10, train_loss: 0.2866\n",
            "3/10, train_loss: 0.3502\n",
            "4/10, train_loss: 0.3086\n",
            "5/10, train_loss: 0.3243\n",
            "6/10, train_loss: 0.3164\n",
            "7/10, train_loss: 0.2866\n",
            "8/10, train_loss: 0.2870\n",
            "9/10, train_loss: 0.3077\n",
            "10/10, train_loss: 0.2911\n",
            "epoch 2 average loss: 0.3083\n",
            "saved new best metric model\n",
            "current epoch: 2 current mean dice: 0.8948 best mean dice: 0.8948 at epoch 2\n",
            "1/10, train_loss: 0.2662\n",
            "2/10, train_loss: 0.2984\n",
            "3/10, train_loss: 0.2889\n",
            "4/10, train_loss: 0.2611\n",
            "5/10, train_loss: 0.3385\n",
            "6/10, train_loss: 0.2974\n",
            "7/10, train_loss: 0.2970\n",
            "8/10, train_loss: 0.3035\n",
            "9/10, train_loss: 0.3324\n",
            "10/10, train_loss: 0.2830\n",
            "epoch 3 average loss: 0.2966\n",
            "1/10, train_loss: 0.2620\n",
            "2/10, train_loss: 0.2640\n",
            "3/10, train_loss: 0.2976\n",
            "4/10, train_loss: 0.3228\n",
            "5/10, train_loss: 0.2587\n",
            "6/10, train_loss: 0.2604\n",
            "7/10, train_loss: 0.2764\n",
            "8/10, train_loss: 0.2914\n",
            "9/10, train_loss: 0.2943\n",
            "10/10, train_loss: 0.3442\n",
            "epoch 4 average loss: 0.2872\n",
            "saved new best metric model\n",
            "current epoch: 4 current mean dice: 0.9464 best mean dice: 0.9464 at epoch 4\n",
            "1/10, train_loss: 0.3306\n",
            "2/10, train_loss: 0.2836\n",
            "3/10, train_loss: 0.2614\n",
            "4/10, train_loss: 0.2742\n",
            "5/10, train_loss: 0.2774\n",
            "6/10, train_loss: 0.3192\n",
            "7/10, train_loss: 0.2412\n",
            "8/10, train_loss: 0.2443\n",
            "9/10, train_loss: 0.2375\n",
            "10/10, train_loss: 0.3145\n",
            "epoch 5 average loss: 0.2784\n",
            "1/10, train_loss: 0.2977\n",
            "2/10, train_loss: 0.2564\n",
            "3/10, train_loss: 0.2886\n",
            "4/10, train_loss: 0.2325\n",
            "5/10, train_loss: 0.2213\n",
            "6/10, train_loss: 0.2392\n",
            "7/10, train_loss: 0.2976\n",
            "8/10, train_loss: 0.3140\n",
            "9/10, train_loss: 0.3218\n",
            "10/10, train_loss: 0.2328\n",
            "epoch 6 average loss: 0.2702\n",
            "saved new best metric model\n",
            "current epoch: 6 current mean dice: 0.9625 best mean dice: 0.9625 at epoch 6\n",
            "1/10, train_loss: 0.2941\n",
            "2/10, train_loss: 0.2465\n",
            "3/10, train_loss: 0.2375\n",
            "4/10, train_loss: 0.2243\n",
            "5/10, train_loss: 0.2694\n",
            "6/10, train_loss: 0.2703\n",
            "7/10, train_loss: 0.2322\n",
            "8/10, train_loss: 0.2581\n",
            "9/10, train_loss: 0.3116\n",
            "10/10, train_loss: 0.2766\n",
            "epoch 7 average loss: 0.2621\n",
            "1/10, train_loss: 0.2655\n",
            "2/10, train_loss: 0.2372\n",
            "3/10, train_loss: 0.2169\n",
            "4/10, train_loss: 0.2773\n",
            "5/10, train_loss: 0.2412\n",
            "6/10, train_loss: 0.2723\n",
            "7/10, train_loss: 0.2627\n",
            "8/10, train_loss: 0.2537\n",
            "9/10, train_loss: 0.2823\n",
            "10/10, train_loss: 0.2317\n",
            "epoch 8 average loss: 0.2541\n",
            "saved new best metric model\n",
            "current epoch: 8 current mean dice: 0.9696 best mean dice: 0.9696 at epoch 8\n",
            "1/10, train_loss: 0.2816\n",
            "2/10, train_loss: 0.2953\n",
            "3/10, train_loss: 0.2301\n",
            "4/10, train_loss: 0.2276\n",
            "5/10, train_loss: 0.2270\n",
            "6/10, train_loss: 0.2051\n",
            "7/10, train_loss: 0.1996\n",
            "8/10, train_loss: 0.2664\n",
            "9/10, train_loss: 0.2922\n",
            "10/10, train_loss: 0.2373\n",
            "epoch 9 average loss: 0.2462\n",
            "1/10, train_loss: 0.2682\n",
            "2/10, train_loss: 0.2212\n",
            "3/10, train_loss: 0.2068\n",
            "4/10, train_loss: 0.2238\n",
            "5/10, train_loss: 0.2814\n",
            "6/10, train_loss: 0.2774\n",
            "7/10, train_loss: 0.1987\n",
            "8/10, train_loss: 0.1944\n",
            "9/10, train_loss: 0.2703\n",
            "10/10, train_loss: 0.2416\n",
            "epoch 10 average loss: 0.2384\n",
            "saved new best metric model\n",
            "current epoch: 10 current mean dice: 0.9755 best mean dice: 0.9755 at epoch 10\n",
            "train completed, best_metric: 0.9755 at epoch: 10\n"
          ]
        }
      ]
    },
    {
      "cell_type": "code",
      "source": [
        "for x in val_loader:\n",
        "  break"
      ],
      "metadata": {
        "id": "Vc9H8ct2bc_J"
      },
      "execution_count": 55,
      "outputs": []
    },
    {
      "cell_type": "code",
      "source": [
        "img = x['img'].to(device)\n",
        "label = x['seg'].to(device)"
      ],
      "metadata": {
        "id": "PD8bVNPxeMKi"
      },
      "execution_count": 60,
      "outputs": []
    },
    {
      "cell_type": "code",
      "source": [
        "plt.imshow(img[0][0].to('cpu').numpy())"
      ],
      "metadata": {
        "colab": {
          "base_uri": "https://localhost:8080/",
          "height": 285
        },
        "id": "N3Ks_77IkBA-",
        "outputId": "1f9e28b8-480c-4011-b15d-9db4d3c9f0d5"
      },
      "execution_count": 59,
      "outputs": [
        {
          "output_type": "execute_result",
          "data": {
            "text/plain": [
              "<matplotlib.image.AxesImage at 0x7f6bf973bc50>"
            ]
          },
          "metadata": {},
          "execution_count": 59
        },
        {
          "output_type": "display_data",
          "data": {
            "text/plain": [
              "<Figure size 432x288 with 1 Axes>"
            ],
            "image/png": "[encoded data removed]"
          },
          "metadata": {
            "needs_background": "light"
          }
        }
      ]
    },
    {
      "cell_type": "code",
      "source": [
        "plt.imshow(label[0][0].to('cpu').numpy())"
      ],
      "metadata": {
        "colab": {
          "base_uri": "https://localhost:8080/",
          "height": 285
        },
        "id": "KysckFNxkBHM",
        "outputId": "e9d4ca04-c1a8-4216-9c45-af72c93444b3"
      },
      "execution_count": 61,
      "outputs": [
        {
          "output_type": "execute_result",
          "data": {
            "text/plain": [
              "<matplotlib.image.AxesImage at 0x7f6bf821f690>"
            ]
          },
          "metadata": {},
          "execution_count": 61
        },
        {
          "output_type": "display_data",
          "data": {
            "text/plain": [
              "<Figure size 432x288 with 1 Axes>"
            ],
            "image/png": "[encoded data removed]"
          },
          "metadata": {
            "needs_background": "light"
          }
        }
      ]
    },
    {
      "cell_type": "code",
      "source": [
        "out = model(img)"
      ],
      "metadata": {
        "id": "c7HnB1VcjWUL"
      },
      "execution_count": 63,
      "outputs": []
    },
    {
      "cell_type": "code",
      "source": [
        "out = post_trans(out)"
      ],
      "metadata": {
        "id": "FYRVRU9YjWXE"
      },
      "execution_count": 65,
      "outputs": []
    },
    {
      "cell_type": "code",
      "source": [
        "plt.imshow(out[0][0].to('cpu').numpy())"
      ],
      "metadata": {
        "colab": {
          "base_uri": "https://localhost:8080/",
          "height": 285
        },
        "id": "TvJ380gCjWZz",
        "outputId": "1d8bd59d-b2b3-4699-e289-5390be0f1f33"
      },
      "execution_count": 66,
      "outputs": [
        {
          "output_type": "execute_result",
          "data": {
            "text/plain": [
              "<matplotlib.image.AxesImage at 0x7f6bf814bcd0>"
            ]
          },
          "metadata": {},
          "execution_count": 66
        },
        {
          "output_type": "display_data",
          "data": {
            "text/plain": [
              "<Figure size 432x288 with 1 Axes>"
            ],
            "image/png": "[encoded data removed]"
          },
          "metadata": {
            "needs_background": "light"
          }
        }
      ]
    },
    {
      "cell_type": "code",
      "source": [
        "dice_metric(y_pred = label, y = out)"
      ],
      "metadata": {
        "colab": {
          "base_uri": "https://localhost:8080/"
        },
        "id": "8jFoBrVyjWkV",
        "outputId": "713a2b89-2fc0-4210-efae-e795e3cc3371"
      },
      "execution_count": 67,
      "outputs": [
        {
          "output_type": "execute_result",
          "data": {
            "text/plain": [
              "tensor([[0.9725]], device='cuda:0')"
            ]
          },
          "metadata": {},
          "execution_count": 67
        }
      ]
    },
    {
      "cell_type": "code",
      "source": [
        "dice_metric(y_pred = label, y = out)"
      ],
      "metadata": {
        "colab": {
          "base_uri": "https://localhost:8080/"
        },
        "id": "iB6jMC3gjWns",
        "outputId": "40617865-19a8-4646-d2b2-f22610ca852c"
      },
      "execution_count": 78,
      "outputs": [
        {
          "output_type": "execute_result",
          "data": {
            "text/plain": [
              "tensor([[0.9725]], device='cuda:0')"
            ]
          },
          "metadata": {},
          "execution_count": 78
        }
      ]
    },
    {
      "cell_type": "code",
      "source": [
        "dice_metric.aggregate().item()"
      ],
      "metadata": {
        "colab": {
          "base_uri": "https://localhost:8080/"
        },
        "id": "yCVxHWnaljBA",
        "outputId": "23450b86-9d3d-411b-d9cb-fc165c5570a6"
      },
      "execution_count": 73,
      "outputs": [
        {
          "output_type": "execute_result",
          "data": {
            "text/plain": [
              "0.9724879264831543"
            ]
          },
          "metadata": {},
          "execution_count": 73
        }
      ]
    },
    {
      "cell_type": "code",
      "source": [
        "dice_metric.reset()"
      ],
      "metadata": {
        "id": "k_WUm4thlq8A"
      },
      "execution_count": 81,
      "outputs": []
    },
    {
      "cell_type": "code",
      "source": [
        "dice_metric.aggregate()"
      ],
      "metadata": {
        "colab": {
          "base_uri": "https://localhost:8080/",
          "height": 289
        },
        "id": "DAVL546Al0cs",
        "outputId": "21057b81-0fbd-45f3-a245-8a695b9fcf3a"
      },
      "execution_count": 82,
      "outputs": [
        {
          "output_type": "error",
          "ename": "ValueError",
          "evalue": "ignored",
          "traceback": [
            "\u001b[0;31m---------------------------------------------------------------------------\u001b[0m",
            "\u001b[0;31mValueError\u001b[0m                                Traceback (most recent call last)",
            "\u001b[0;32m<ipython-input-82-ef894e1d423f>\u001b[0m in \u001b[0;36m<module>\u001b[0;34m()\u001b[0m\n\u001b[0;32m----> 1\u001b[0;31m \u001b[0mdice_metric\u001b[0m\u001b[0;34m.\u001b[0m\u001b[0maggregate\u001b[0m\u001b[0;34m(\u001b[0m\u001b[0;34m)\u001b[0m\u001b[0;34m\u001b[0m\u001b[0;34m\u001b[0m\u001b[0m\n\u001b[0m",
            "\u001b[0;32m/usr/local/lib/python3.7/dist-packages/monai/metrics/meandice.py\u001b[0m in \u001b[0;36maggregate\u001b[0;34m(self, reduction)\u001b[0m\n\u001b[1;32m     99\u001b[0m         \u001b[0mdata\u001b[0m \u001b[0;34m=\u001b[0m \u001b[0mself\u001b[0m\u001b[0;34m.\u001b[0m\u001b[0mget_buffer\u001b[0m\u001b[0;34m(\u001b[0m\u001b[0;34m)\u001b[0m\u001b[0;34m\u001b[0m\u001b[0;34m\u001b[0m\u001b[0m\n\u001b[1;32m    100\u001b[0m         \u001b[0;32mif\u001b[0m \u001b[0;32mnot\u001b[0m \u001b[0misinstance\u001b[0m\u001b[0;34m(\u001b[0m\u001b[0mdata\u001b[0m\u001b[0;34m,\u001b[0m \u001b[0mtorch\u001b[0m\u001b[0;34m.\u001b[0m\u001b[0mTensor\u001b[0m\u001b[0;34m)\u001b[0m\u001b[0;34m:\u001b[0m\u001b[0;34m\u001b[0m\u001b[0;34m\u001b[0m\u001b[0m\n\u001b[0;32m--> 101\u001b[0;31m             \u001b[0;32mraise\u001b[0m \u001b[0mValueError\u001b[0m\u001b[0;34m(\u001b[0m\u001b[0;34m\"the data to aggregate must be PyTorch Tensor.\"\u001b[0m\u001b[0;34m)\u001b[0m\u001b[0;34m\u001b[0m\u001b[0;34m\u001b[0m\u001b[0m\n\u001b[0m\u001b[1;32m    102\u001b[0m \u001b[0;34m\u001b[0m\u001b[0m\n\u001b[1;32m    103\u001b[0m         \u001b[0;31m# do metric reduction\u001b[0m\u001b[0;34m\u001b[0m\u001b[0;34m\u001b[0m\u001b[0;34m\u001b[0m\u001b[0m\n",
            "\u001b[0;31mValueError\u001b[0m: the data to aggregate must be PyTorch Tensor."
          ]
        }
      ]
    },
    {
      "cell_type": "code",
      "source": [
        ""
      ],
      "metadata": {
        "id": "Tq90v_zGl1V8"
      },
      "execution_count": null,
      "outputs": []
    }
  ]
}