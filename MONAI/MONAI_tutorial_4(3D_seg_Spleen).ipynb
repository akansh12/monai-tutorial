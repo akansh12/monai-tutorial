{
  "nbformat": 4,
  "nbformat_minor": 0,
  "metadata": {
    "colab": {
      "name": "MONAI_tutorial_4(3D_seg_Spleen)",
      "provenance": [],
      "authorship_tag": "ABX9TyOxwk67qRX+bilVxLG/qNXK"
    },
    "kernelspec": {
      "name": "python3",
      "display_name": "Python 3"
    },
    "language_info": {
      "name": "python"
    },
    "accelerator": "GPU",
    "widgets": {
      "application/vnd.jupyter.widget-state+json": {
        "f40dc51365aa463585297efdd587a9a3": {
          "model_module": "@jupyter-widgets/controls",
          "model_name": "HBoxModel",
          "model_module_version": "1.5.0",
          "state": {
            "_dom_classes": [],
            "_model_module": "@jupyter-widgets/controls",
            "_model_module_version": "1.5.0",
            "_model_name": "HBoxModel",
            "_view_count": null,
            "_view_module": "@jupyter-widgets/controls",
            "_view_module_version": "1.5.0",
            "_view_name": "HBoxView",
            "box_style": "",
            "children": [
              "IPY_MODEL_96417df1d54b4b9f8a27d7dad344c356",
              "IPY_MODEL_5f2cd938f98c4912be6deb3ee725d739",
              "IPY_MODEL_710ed47803a14eeca6e65a7b22be1565"
            ],
            "layout": "IPY_MODEL_6b889c70aafa483697cd053cecd764d1"
          }
        },
        "96417df1d54b4b9f8a27d7dad344c356": {
          "model_module": "@jupyter-widgets/controls",
          "model_name": "HTMLModel",
          "model_module_version": "1.5.0",
          "state": {
            "_dom_classes": [],
            "_model_module": "@jupyter-widgets/controls",
            "_model_module_version": "1.5.0",
            "_model_name": "HTMLModel",
            "_view_count": null,
            "_view_module": "@jupyter-widgets/controls",
            "_view_module_version": "1.5.0",
            "_view_name": "HTMLView",
            "description": "",
            "description_tooltip": null,
            "layout": "IPY_MODEL_9065c878a43f4fecac438ddd742c3b8a",
            "placeholder": "​",
            "style": "IPY_MODEL_205c65f6343f47e785120098633d4eac",
            "value": "  0%"
          }
        },
        "5f2cd938f98c4912be6deb3ee725d739": {
          "model_module": "@jupyter-widgets/controls",
          "model_name": "FloatProgressModel",
          "model_module_version": "1.5.0",
          "state": {
            "_dom_classes": [],
            "_model_module": "@jupyter-widgets/controls",
            "_model_module_version": "1.5.0",
            "_model_name": "FloatProgressModel",
            "_view_count": null,
            "_view_module": "@jupyter-widgets/controls",
            "_view_module_version": "1.5.0",
            "_view_name": "ProgressView",
            "bar_style": "",
            "description": "",
            "description_tooltip": null,
            "layout": "IPY_MODEL_ce0a871c01854fda9e832312a15c5ea0",
            "max": 600,
            "min": 0,
            "orientation": "horizontal",
            "style": "IPY_MODEL_a3a83c51c3794d9d83537c8f4e3c277f",
            "value": 3
          }
        },
        "710ed47803a14eeca6e65a7b22be1565": {
          "model_module": "@jupyter-widgets/controls",
          "model_name": "HTMLModel",
          "model_module_version": "1.5.0",
          "state": {
            "_dom_classes": [],
            "_model_module": "@jupyter-widgets/controls",
            "_model_module_version": "1.5.0",
            "_model_name": "HTMLModel",
            "_view_count": null,
            "_view_module": "@jupyter-widgets/controls",
            "_view_module_version": "1.5.0",
            "_view_name": "HTMLView",
            "description": "",
            "description_tooltip": null,
            "layout": "IPY_MODEL_ee2cb0e17f044238ba9dd47d64233eca",
            "placeholder": "​",
            "style": "IPY_MODEL_4ab59d25640c47a5a0cbbd6d2f60fccb",
            "value": " 3/600 [00:53&lt;2:57:54, 17.88s/it]"
          }
        },
        "6b889c70aafa483697cd053cecd764d1": {
          "model_module": "@jupyter-widgets/base",
          "model_name": "LayoutModel",
          "model_module_version": "1.2.0",
          "state": {
            "_model_module": "@jupyter-widgets/base",
            "_model_module_version": "1.2.0",
            "_model_name": "LayoutModel",
            "_view_count": null,
            "_view_module": "@jupyter-widgets/base",
            "_view_module_version": "1.2.0",
            "_view_name": "LayoutView",
            "align_content": null,
            "align_items": null,
            "align_self": null,
            "border": null,
            "bottom": null,
            "display": null,
            "flex": null,
            "flex_flow": null,
            "grid_area": null,
            "grid_auto_columns": null,
            "grid_auto_flow": null,
            "grid_auto_rows": null,
            "grid_column": null,
            "grid_gap": null,
            "grid_row": null,
            "grid_template_areas": null,
            "grid_template_columns": null,
            "grid_template_rows": null,
            "height": null,
            "justify_content": null,
            "justify_items": null,
            "left": null,
            "margin": null,
            "max_height": null,
            "max_width": null,
            "min_height": null,
            "min_width": null,
            "object_fit": null,
            "object_position": null,
            "order": null,
            "overflow": null,
            "overflow_x": null,
            "overflow_y": null,
            "padding": null,
            "right": null,
            "top": null,
            "visibility": null,
            "width": null
          }
        },
        "9065c878a43f4fecac438ddd742c3b8a": {
          "model_module": "@jupyter-widgets/base",
          "model_name": "LayoutModel",
          "model_module_version": "1.2.0",
          "state": {
            "_model_module": "@jupyter-widgets/base",
            "_model_module_version": "1.2.0",
            "_model_name": "LayoutModel",
            "_view_count": null,
            "_view_module": "@jupyter-widgets/base",
            "_view_module_version": "1.2.0",
            "_view_name": "LayoutView",
            "align_content": null,
            "align_items": null,
            "align_self": null,
            "border": null,
            "bottom": null,
            "display": null,
            "flex": null,
            "flex_flow": null,
            "grid_area": null,
            "grid_auto_columns": null,
            "grid_auto_flow": null,
            "grid_auto_rows": null,
            "grid_column": null,
            "grid_gap": null,
            "grid_row": null,
            "grid_template_areas": null,
            "grid_template_columns": null,
            "grid_template_rows": null,
            "height": null,
            "justify_content": null,
            "justify_items": null,
            "left": null,
            "margin": null,
            "max_height": null,
            "max_width": null,
            "min_height": null,
            "min_width": null,
            "object_fit": null,
            "object_position": null,
            "order": null,
            "overflow": null,
            "overflow_x": null,
            "overflow_y": null,
            "padding": null,
            "right": null,
            "top": null,
            "visibility": null,
            "width": null
          }
        },
        "205c65f6343f47e785120098633d4eac": {
          "model_module": "@jupyter-widgets/controls",
          "model_name": "DescriptionStyleModel",
          "model_module_version": "1.5.0",
          "state": {
            "_model_module": "@jupyter-widgets/controls",
            "_model_module_version": "1.5.0",
            "_model_name": "DescriptionStyleModel",
            "_view_count": null,
            "_view_module": "@jupyter-widgets/base",
            "_view_module_version": "1.2.0",
            "_view_name": "StyleView",
            "description_width": ""
          }
        },
        "ce0a871c01854fda9e832312a15c5ea0": {
          "model_module": "@jupyter-widgets/base",
          "model_name": "LayoutModel",
          "model_module_version": "1.2.0",
          "state": {
            "_model_module": "@jupyter-widgets/base",
            "_model_module_version": "1.2.0",
            "_model_name": "LayoutModel",
            "_view_count": null,
            "_view_module": "@jupyter-widgets/base",
            "_view_module_version": "1.2.0",
            "_view_name": "LayoutView",
            "align_content": null,
            "align_items": null,
            "align_self": null,
            "border": null,
            "bottom": null,
            "display": null,
            "flex": null,
            "flex_flow": null,
            "grid_area": null,
            "grid_auto_columns": null,
            "grid_auto_flow": null,
            "grid_auto_rows": null,
            "grid_column": null,
            "grid_gap": null,
            "grid_row": null,
            "grid_template_areas": null,
            "grid_template_columns": null,
            "grid_template_rows": null,
            "height": null,
            "justify_content": null,
            "justify_items": null,
            "left": null,
            "margin": null,
            "max_height": null,
            "max_width": null,
            "min_height": null,
            "min_width": null,
            "object_fit": null,
            "object_position": null,
            "order": null,
            "overflow": null,
            "overflow_x": null,
            "overflow_y": null,
            "padding": null,
            "right": null,
            "top": null,
            "visibility": null,
            "width": null
          }
        },
        "a3a83c51c3794d9d83537c8f4e3c277f": {
          "model_module": "@jupyter-widgets/controls",
          "model_name": "ProgressStyleModel",
          "model_module_version": "1.5.0",
          "state": {
            "_model_module": "@jupyter-widgets/controls",
            "_model_module_version": "1.5.0",
            "_model_name": "ProgressStyleModel",
            "_view_count": null,
            "_view_module": "@jupyter-widgets/base",
            "_view_module_version": "1.2.0",
            "_view_name": "StyleView",
            "bar_color": null,
            "description_width": ""
          }
        },
        "ee2cb0e17f044238ba9dd47d64233eca": {
          "model_module": "@jupyter-widgets/base",
          "model_name": "LayoutModel",
          "model_module_version": "1.2.0",
          "state": {
            "_model_module": "@jupyter-widgets/base",
            "_model_module_version": "1.2.0",
            "_model_name": "LayoutModel",
            "_view_count": null,
            "_view_module": "@jupyter-widgets/base",
            "_view_module_version": "1.2.0",
            "_view_name": "LayoutView",
            "align_content": null,
            "align_items": null,
            "align_self": null,
            "border": null,
            "bottom": null,
            "display": null,
            "flex": null,
            "flex_flow": null,
            "grid_area": null,
            "grid_auto_columns": null,
            "grid_auto_flow": null,
            "grid_auto_rows": null,
            "grid_column": null,
            "grid_gap": null,
            "grid_row": null,
            "grid_template_areas": null,
            "grid_template_columns": null,
            "grid_template_rows": null,
            "height": null,
            "justify_content": null,
            "justify_items": null,
            "left": null,
            "margin": null,
            "max_height": null,
            "max_width": null,
            "min_height": null,
            "min_width": null,
            "object_fit": null,
            "object_position": null,
            "order": null,
            "overflow": null,
            "overflow_x": null,
            "overflow_y": null,
            "padding": null,
            "right": null,
            "top": null,
            "visibility": null,
            "width": null
          }
        },
        "4ab59d25640c47a5a0cbbd6d2f60fccb": {
          "model_module": "@jupyter-widgets/controls",
          "model_name": "DescriptionStyleModel",
          "model_module_version": "1.5.0",
          "state": {
            "_model_module": "@jupyter-widgets/controls",
            "_model_module_version": "1.5.0",
            "_model_name": "DescriptionStyleModel",
            "_view_count": null,
            "_view_module": "@jupyter-widgets/base",
            "_view_module_version": "1.2.0",
            "_view_name": "StyleView",
            "description_width": ""
          }
        }
      }
    }
  },
  "cells": [
    {
      "cell_type": "code",
      "execution_count": 1,
      "metadata": {
        "id": "lfzwDKs5nfII",
        "colab": {
          "base_uri": "https://localhost:8080/"
        },
        "outputId": "5ab25da2-373c-400f-a3a1-73809bec82ac"
      },
      "outputs": [
        {
          "output_type": "stream",
          "name": "stdout",
          "text": [
            "Traceback (most recent call last):\n",
            "  File \"<string>\", line 1, in <module>\n",
            "ModuleNotFoundError: No module named 'monai'\n",
            "\u001b[K     |████████████████████████████████| 816 kB 8.0 MB/s \n",
            "\u001b[K     |████████████████████████████████| 251 kB 74.4 MB/s \n",
            "\u001b[?25hTraceback (most recent call last):\n",
            "  File \"<string>\", line 1, in <module>\n",
            "ModuleNotFoundError: No module named 'aim'\n",
            "\u001b[K     |████████████████████████████████| 3.5 MB 5.1 MB/s \n",
            "\u001b[K     |████████████████████████████████| 280 kB 58.5 MB/s \n",
            "\u001b[K     |████████████████████████████████| 210 kB 60.6 MB/s \n",
            "\u001b[K     |████████████████████████████████| 4.3 MB 33.6 MB/s \n",
            "\u001b[K     |████████████████████████████████| 5.1 MB 36.3 MB/s \n",
            "\u001b[K     |████████████████████████████████| 4.0 MB 56.1 MB/s \n",
            "\u001b[K     |████████████████████████████████| 17.2 MB 600 kB/s \n",
            "\u001b[K     |████████████████████████████████| 51 kB 395 kB/s \n",
            "\u001b[K     |████████████████████████████████| 55 kB 3.9 MB/s \n",
            "\u001b[K     |████████████████████████████████| 4.0 MB 42.0 MB/s \n",
            "\u001b[K     |████████████████████████████████| 53 kB 1.8 MB/s \n",
            "\u001b[K     |████████████████████████████████| 78 kB 4.8 MB/s \n",
            "\u001b[K     |████████████████████████████████| 10.9 MB 32.8 MB/s \n",
            "\u001b[K     |████████████████████████████████| 60 kB 4.3 MB/s \n",
            "\u001b[K     |████████████████████████████████| 58 kB 5.9 MB/s \n",
            "\u001b[?25h  Building wheel for aim-ui (setup.py) ... \u001b[?25l\u001b[?25hdone\n",
            "\u001b[31mERROR: pip's dependency resolver does not currently take into account all the packages that are installed. This behaviour is the source of the following dependency conflicts.\n",
            "tensorflow 2.8.0 requires tf-estimator-nightly==2.8.0.dev2021122109, which is not installed.\n",
            "albumentations 0.1.12 requires imgaug<0.2.7,>=0.2.5, but you have imgaug 0.2.9 which is incompatible.\u001b[0m\n"
          ]
        }
      ],
      "source": [
        "!python -c \"import monai\" || pip install -q \"monai-weekly[gdown, nibabel, tqdm, ignite]\"\n",
        "!python -c \"import aim\" || pip install -q aim\n",
        "!python -c \"import matplotlib\" || pip install -q matplotlib\n",
        "%matplotlib inline"
      ]
    },
    {
      "cell_type": "code",
      "source": [
        "from monai.utils import first, set_determinism\n",
        "from monai.transforms import (\n",
        "    AsDiscrete,\n",
        "    AsDiscreted,\n",
        "    EnsureChannelFirstd,\n",
        "    Compose,\n",
        "    CropForegroundd,\n",
        "    LoadImaged,\n",
        "    Orientationd,\n",
        "    RandCropByPosNegLabeld,\n",
        "    SaveImaged,\n",
        "    ScaleIntensityRanged,\n",
        "    Spacingd, \n",
        "    EnsureTyped,\n",
        "    EnsureType,\n",
        "    Invertd\n",
        ")\n",
        "\n",
        "from monai.handlers.utils import from_engine\n",
        "from monai.networks.nets import UNet\n",
        "from monai.networks.layers import Norm\n",
        "from monai.metrics import DiceMetric\n",
        "from monai.losses import DiceLoss\n",
        "from monai.inferers import sliding_window_inference\n",
        "from monai.data import CacheDataset, DataLoader, Dataset, decollate_batch\n",
        "from monai.config import print_config\n",
        "from monai.apps import download_and_extract\n",
        "import aim\n",
        "import torch\n",
        "import matplotlib.pyplot as plt\n",
        "import tempfile\n",
        "import shutil\n",
        "import os\n",
        "import glob"
      ],
      "metadata": {
        "id": "bjIbHx8goTKT"
      },
      "execution_count": 2,
      "outputs": []
    },
    {
      "cell_type": "code",
      "source": [
        "import nibabel as nib\n",
        "import numpy as np\n",
        "from tqdm.notebook import tqdm"
      ],
      "metadata": {
        "id": "1hL4acIU2GtN"
      },
      "execution_count": 15,
      "outputs": []
    },
    {
      "cell_type": "code",
      "source": [
        "# os.makedirs(\"./data\")\n",
        "root_dir = \"./data/\""
      ],
      "metadata": {
        "id": "7hwDUVMVsV6d"
      },
      "execution_count": 3,
      "outputs": []
    },
    {
      "cell_type": "code",
      "source": [
        "resource = \"https://msd-for-monai.s3-us-west-2.amazonaws.com/Task09_Spleen.tar\"\n",
        "md5 = \"410d4a301da4e5b2f6f86ec3ddba524e\"\n",
        "\n",
        "compressed_file = os.path.join(root_dir, \"Task09_Spleen.tar\")\n",
        "data_dir = os.path.join(root_dir, \"Task09_Spleen\")\n",
        "if not os.path.exists(data_dir):\n",
        "    download_and_extract(resource, compressed_file, root_dir, md5)"
      ],
      "metadata": {
        "colab": {
          "base_uri": "https://localhost:8080/"
        },
        "id": "T804xNkesey2",
        "outputId": "b2a47a17-2851-4c45-f422-7d7e1093ee2a"
      },
      "execution_count": 4,
      "outputs": [
        {
          "output_type": "stream",
          "name": "stderr",
          "text": [
            "Task09_Spleen.tar: 1.50GB [00:31, 51.9MB/s]                            "
          ]
        },
        {
          "output_type": "stream",
          "name": "stdout",
          "text": [
            "2022-05-14 11:12:57,452 - INFO - Downloaded: data/Task09_Spleen.tar\n"
          ]
        },
        {
          "output_type": "stream",
          "name": "stderr",
          "text": [
            "\n"
          ]
        },
        {
          "output_type": "stream",
          "name": "stdout",
          "text": [
            "2022-05-14 11:13:00,402 - INFO - Verified 'Task09_Spleen.tar', md5: 410d4a301da4e5b2f6f86ec3ddba524e.\n",
            "2022-05-14 11:13:00,407 - INFO - Writing into directory: ./data/.\n"
          ]
        }
      ]
    },
    {
      "cell_type": "code",
      "source": [
        "eg_img_1 = nib.load(\"/content/data/Task09_Spleen/imagesTr/spleen_10.nii.gz\")\n",
        "eg_img_2 = nib.load(\"/content/data/Task09_Spleen/imagesTr/spleen_24.nii.gz\")"
      ],
      "metadata": {
        "id": "1TLf6tJm2JHw"
      },
      "execution_count": 6,
      "outputs": []
    },
    {
      "cell_type": "code",
      "source": [
        "eg_img_1_data = eg_img_1.get_fdata()\n",
        "eg_img_2_data = eg_img_2.get_fdata()"
      ],
      "metadata": {
        "id": "a1lArOmy2JJ7"
      },
      "execution_count": 11,
      "outputs": []
    },
    {
      "cell_type": "code",
      "source": [
        ""
      ],
      "metadata": {
        "id": "0MLBRpcXLfP2"
      },
      "execution_count": 11,
      "outputs": []
    },
    {
      "cell_type": "code",
      "source": [
        "print(eg_img_1_data.shape)\n",
        "print(eg_img_2_data.shape)"
      ],
      "metadata": {
        "colab": {
          "base_uri": "https://localhost:8080/"
        },
        "id": "TUkwo8NC2JMa",
        "outputId": "9c32e231-d7eb-42de-c53e-b0a32f41df92"
      },
      "execution_count": 12,
      "outputs": [
        {
          "output_type": "stream",
          "name": "stdout",
          "text": [
            "(512, 512, 55)\n",
            "(512, 512, 94)\n"
          ]
        }
      ]
    },
    {
      "cell_type": "code",
      "source": [
        "print(np.max(eg_img_1_data))\n",
        "print(np.min(eg_img_1_data))"
      ],
      "metadata": {
        "colab": {
          "base_uri": "https://localhost:8080/"
        },
        "id": "Vb6qMeRr6Ky5",
        "outputId": "74631ae6-dc65-45c2-aa9d-b57e2ab284ba"
      },
      "execution_count": 13,
      "outputs": [
        {
          "output_type": "stream",
          "name": "stdout",
          "text": [
            "3072.0\n",
            "-1024.0\n"
          ]
        }
      ]
    },
    {
      "cell_type": "code",
      "source": [
        "print(nib.aff2axcodes(eg_img_1.affine))"
      ],
      "metadata": {
        "colab": {
          "base_uri": "https://localhost:8080/"
        },
        "id": "6irIyc_D2JOu",
        "outputId": "03aab72e-e5da-4b2e-daa6-2f8afd66e36b"
      },
      "execution_count": 14,
      "outputs": [
        {
          "output_type": "stream",
          "name": "stdout",
          "text": [
            "('R', 'A', 'S')\n"
          ]
        }
      ]
    },
    {
      "cell_type": "code",
      "source": [
        "eg_img_1.header.get_zooms()"
      ],
      "metadata": {
        "colab": {
          "base_uri": "https://localhost:8080/"
        },
        "id": "5EflCv8M3orO",
        "outputId": "37bc1386-f974-4150-ef02-ed557e1bd602"
      },
      "execution_count": 15,
      "outputs": [
        {
          "output_type": "execute_result",
          "data": {
            "text/plain": [
              "(0.976562, 0.976562, 5.0)"
            ]
          },
          "metadata": {},
          "execution_count": 15
        }
      ]
    },
    {
      "cell_type": "code",
      "source": [
        "train_images = sorted(glob.glob(os.path.join(data_dir, \"imagesTr\", \"*.nii.gz\")))\n",
        "train_labels = sorted(glob.glob(os.path.join(data_dir, \"labelsTr\", \"*.nii.gz\")))"
      ],
      "metadata": {
        "id": "Z91c69HqsruG"
      },
      "execution_count": 5,
      "outputs": []
    },
    {
      "cell_type": "code",
      "source": [
        "data_dicts = [{\"images\": images_name, \"labels\": label_name} for images_name, label_name in zip(train_images, train_labels)]\n",
        "train_files, val_files = data_dicts[:-9], data_dicts[-9:]\n",
        "\n",
        "set_determinism(seed = 0)"
      ],
      "metadata": {
        "id": "7KZwAqY2uLVP"
      },
      "execution_count": 6,
      "outputs": []
    },
    {
      "cell_type": "code",
      "source": [
        "train_transforms = Compose(\n",
        "    [\n",
        "     LoadImaged(keys=['images', 'labels']),\n",
        "     EnsureChannelFirstd(keys = [\"images\", \"labels\"]),\n",
        "     Orientationd(keys=['images', 'labels'], axcodes = 'RAS'),\n",
        "     Spacingd(keys=['images', 'labels'], pixdim = (1.5,1.5,2), mode = (\"bilinear\", 'nearest')),\n",
        "     ScaleIntensityRanged(\n",
        "            keys=[\"images\"], a_min=-57, a_max=164,\n",
        "            b_min=0.0, b_max=1.0, clip=True,\n",
        "        ),\n",
        "     CropForegroundd(keys=['images', 'labels'], source_key=\"images\"),\n",
        "     RandCropByPosNegLabeld(\n",
        "            keys=['images', 'labels'],\n",
        "            label_key=\"labels\",\n",
        "            spatial_size=(96, 96, 96),\n",
        "            pos=1,\n",
        "            neg=1,\n",
        "            num_samples=4,\n",
        "            image_key=\"images\",\n",
        "            image_threshold=0,\n",
        "        ),\n",
        "     EnsureTyped(keys=['images', 'labels']),     \n",
        "          \n",
        "    ]\n",
        ")\n",
        "\n",
        "val_transforms = Compose(\n",
        "    [\n",
        "        LoadImaged(keys=[\"images\", \"labels\"]),\n",
        "        EnsureChannelFirstd(keys=[\"images\", \"labels\"]),\n",
        "        Orientationd(keys=[\"images\", \"labels\"], axcodes=\"RAS\"),\n",
        "        Spacingd(keys=[\"images\", \"labels\"], pixdim=(\n",
        "            1.5, 1.5, 2.0), mode=(\"bilinear\", \"nearest\")),\n",
        "        ScaleIntensityRanged(\n",
        "            keys=[\"images\"], a_min=-57, a_max=164,\n",
        "            b_min=0.0, b_max=1.0, clip=True,\n",
        "        ),\n",
        "        CropForegroundd(keys=[\"images\", \"labels\"], source_key=\"images\"),\n",
        "        EnsureTyped(keys=[\"images\", \"labels\"]),\n",
        "    ]\n",
        ")\n"
      ],
      "metadata": {
        "id": "yevWork6uN1_"
      },
      "execution_count": 7,
      "outputs": []
    },
    {
      "cell_type": "code",
      "source": [
        "check_ds = Dataset(data = val_files, transform = val_transforms)\n",
        "check_loader = DataLoader(check_ds, batch_size = 1)\n",
        "check_data = first(check_loader)\n",
        "img, label = check_data['images'], check_data['labels']"
      ],
      "metadata": {
        "id": "NjoHndYluQWB"
      },
      "execution_count": 8,
      "outputs": []
    },
    {
      "cell_type": "code",
      "source": [
        "img.shape"
      ],
      "metadata": {
        "id": "5Q_2gP3AuQYf",
        "colab": {
          "base_uri": "https://localhost:8080/"
        },
        "outputId": "349f1f15-fa3b-4276-9d78-ffdba881e6fb"
      },
      "execution_count": 20,
      "outputs": [
        {
          "output_type": "execute_result",
          "data": {
            "text/plain": [
              "torch.Size([1, 1, 226, 157, 113])"
            ]
          },
          "metadata": {},
          "execution_count": 20
        }
      ]
    },
    {
      "cell_type": "code",
      "source": [
        ""
      ],
      "metadata": {
        "id": "zn-S41q5uQbX"
      },
      "execution_count": 20,
      "outputs": []
    },
    {
      "cell_type": "code",
      "source": [
        "check_ds = Dataset(data = train_files, transform = train_transforms)\n",
        "check_loader = DataLoader(check_ds, batch_size = 1)\n",
        "check_data = first(check_loader)\n",
        "img, label = check_data['images'], check_data['labels']"
      ],
      "metadata": {
        "id": "qvnPZVGJuQdz"
      },
      "execution_count": 21,
      "outputs": []
    },
    {
      "cell_type": "code",
      "source": [
        "img.shape"
      ],
      "metadata": {
        "colab": {
          "base_uri": "https://localhost:8080/"
        },
        "id": "0UjYhgg_-pdi",
        "outputId": "b5ffc280-756e-4e08-f1b2-b62a174ea51a"
      },
      "execution_count": 22,
      "outputs": [
        {
          "output_type": "execute_result",
          "data": {
            "text/plain": [
              "torch.Size([4, 1, 96, 96, 96])"
            ]
          },
          "metadata": {},
          "execution_count": 22
        }
      ]
    },
    {
      "cell_type": "code",
      "source": [
        "np.unique(label)"
      ],
      "metadata": {
        "colab": {
          "base_uri": "https://localhost:8080/"
        },
        "id": "E1K5AlV8-mm9",
        "outputId": "7e20e6a4-6f35-437c-c687-9f5f04256923"
      },
      "execution_count": 23,
      "outputs": [
        {
          "output_type": "execute_result",
          "data": {
            "text/plain": [
              "array([0., 1.], dtype=float32)"
            ]
          },
          "metadata": {},
          "execution_count": 23
        }
      ]
    },
    {
      "cell_type": "code",
      "source": [
        "plt.imshow(img[2,0,:,:,56])"
      ],
      "metadata": {
        "colab": {
          "base_uri": "https://localhost:8080/",
          "height": 285
        },
        "id": "YmjOqv95-pgc",
        "outputId": "e6992e68-1d96-4316-ad52-cc8026e329c6"
      },
      "execution_count": 24,
      "outputs": [
        {
          "output_type": "execute_result",
          "data": {
            "text/plain": [
              "<matplotlib.image.AxesImage at 0x7fcfd9be4ad0>"
            ]
          },
          "metadata": {},
          "execution_count": 24
        },
        {
          "output_type": "display_data",
          "data": {
            "text/plain": [
              "<Figure size 432x288 with 1 Axes>"
            ],
            "image/png": "[encoded data removed]"
          },
          "metadata": {
            "needs_background": "light"
          }
        }
      ]
    },
    {
      "cell_type": "code",
      "source": [
        "plt.imshow(label[2,0,:,:,56])"
      ],
      "metadata": {
        "colab": {
          "base_uri": "https://localhost:8080/",
          "height": 285
        },
        "id": "JuY9i567-pi5",
        "outputId": "bf218317-d5be-46f9-d3c2-bad4c12ed1af"
      },
      "execution_count": 25,
      "outputs": [
        {
          "output_type": "execute_result",
          "data": {
            "text/plain": [
              "<matplotlib.image.AxesImage at 0x7fcfd6b51d10>"
            ]
          },
          "metadata": {},
          "execution_count": 25
        },
        {
          "output_type": "display_data",
          "data": {
            "text/plain": [
              "<Figure size 432x288 with 1 Axes>"
            ],
            "image/png": "[encoded data removed]"
          },
          "metadata": {
            "needs_background": "light"
          }
        }
      ]
    },
    {
      "cell_type": "code",
      "source": [
        "train_ds = CacheDataset(\n",
        "    data = train_files, transform = train_transforms,\n",
        "    cache_rate = 1.0, num_workers = 2\n",
        ")\n",
        "\n",
        "train_loader = DataLoader(train_ds, batch_size = 2, shuffle = True, num_workers=2)\n",
        "val_ds = CacheDataset(\n",
        "    data = val_files, transform = val_transforms,\n",
        "    cache_rate = 1.0, num_workers = 2\n",
        ")\n",
        "val_loader = DataLoader(val_ds, batch_size = 1, shuffle = False, num_workers=2)"
      ],
      "metadata": {
        "colab": {
          "base_uri": "https://localhost:8080/"
        },
        "id": "KGeqZvNmB2au",
        "outputId": "ce123811-feb2-48b6-8333-d1406238f1c5"
      },
      "execution_count": 9,
      "outputs": [
        {
          "output_type": "stream",
          "name": "stderr",
          "text": [
            "Loading dataset: 100%|██████████| 32/32 [01:20<00:00,  2.50s/it]\n",
            "Loading dataset: 100%|██████████| 9/9 [00:17<00:00,  1.94s/it]\n"
          ]
        }
      ]
    },
    {
      "cell_type": "code",
      "source": [
        "device = torch.device(\"cuda\") if torch.cuda.is_available() else torch.device(\"cpu\") \n",
        "# model = UNet(spatial_dims=3,\n",
        "#              in_channels=1, \n",
        "#              out_channels=2,\n",
        "#              channels = (16,32,64,128,256),\n",
        "#              strides = (2,2,2,2),\n",
        "#              num_res_units = 2,\n",
        "#              norm = Norm.BATCH\n",
        "#              ).to(device)        \n",
        "\n",
        "UNet_meatdata = dict(\n",
        "    spatial_dims=3,\n",
        "    in_channels=1,\n",
        "    out_channels=2,\n",
        "    channels=(16, 32, 64, 128, 256),\n",
        "    strides=(2, 2, 2, 2),\n",
        "    num_res_units=2,\n",
        "    norm=Norm.BATCH\n",
        ")\n",
        "\n",
        "model = UNet(**UNet_meatdata).to(device)\n"
      ],
      "metadata": {
        "id": "zyMz8NuaESnZ"
      },
      "execution_count": 10,
      "outputs": []
    },
    {
      "cell_type": "code",
      "source": [
        "loss_function = DiceLoss(to_onehot_y=True, softmax=True)\n",
        "loss_type = \"DiceLoss\"\n",
        "optimizer = torch.optim.Adam(model.parameters(), 1e-4)\n",
        "dice_metric = DiceMetric(include_background=False, reduction=\"mean\")\n"
      ],
      "metadata": {
        "id": "UsWCDPwa-JUf"
      },
      "execution_count": 12,
      "outputs": []
    },
    {
      "cell_type": "code",
      "source": [
        "Optimizer_metadata = {}\n",
        "for ind, param_group in enumerate(optimizer.param_groups):\n",
        "    optim_meta_keys = list(param_group.keys())\n",
        "    Optimizer_metadata[f'param_group_{ind}'] = {key: value for (key, value) in param_group.items() if 'params' not in key}"
      ],
      "metadata": {
        "id": "N6W6NIBYCS8l"
      },
      "execution_count": 13,
      "outputs": []
    },
    {
      "cell_type": "code",
      "source": [
        "max_epochs = 600\n",
        "val_interval = 10\n",
        "best_metric = -1\n",
        "best_metric_epoch = -1\n",
        "epoch_loss_values = []\n",
        "metric_values = []\n",
        "post_pred = Compose([EnsureType(), AsDiscrete(argmax=True, to_onehot=2)])\n",
        "post_label = Compose([EnsureType(), AsDiscrete(to_onehot=2)])\n",
        "\n",
        "# initialize a new Aim Run\n",
        "aim_run = aim.Run()\n",
        "# log model metadata\n",
        "aim_run['UNet_meatdata'] = UNet_meatdata\n",
        "# log optimizer metadata\n",
        "aim_run['Optimizer_metadata'] = Optimizer_metadata\n",
        "\n",
        "\n",
        "slice_to_track = 80\n",
        "\n",
        "for epoch in tqdm(range(max_epochs)):\n",
        "  model.train()\n",
        "  epoch_loss = 0\n",
        "  step = 0\n",
        "  for batch_data in train_loader:\n",
        "    step += 1\n",
        "    inputs, labels = (\n",
        "        batch_data['images'].to(device),\n",
        "        batch_data['labels'].to(device)\n",
        "    )\n",
        "    optimizer.zero_grad()\n",
        "    outputs = model(inputs)\n",
        "    loss = loss_function(outputs, labels)\n",
        "    loss.backward()\n",
        "    optimizer.step()\n",
        "    epoch_loss +=loss.item()\n",
        "    print(f\"{step}/{len(train_ds) // train_loader.batch_size}, \"\n",
        "            f\"train_loss: {loss.item():.4f}\")\n",
        "    aim_run.track(loss.item(), name=\"batch_loss\", context={'type':loss_type})\n",
        "\n",
        "  epoch_loss /= step\n",
        "  epoch_loss_values.append(epoch_loss)\n",
        "  aim_run.track(epoch_loss, name=\"epoch_loss\", context={'type':loss_type})\n",
        "\n",
        "  print(f\"epoch {epoch + 1} average loss: {epoch_loss:.4f}\")\n",
        "\n",
        "  if (epoch + 1) % val_interval == 0:\n",
        "\n",
        "    model.eval()\n",
        "    with torch.no_grad():\n",
        "      for index, val_data in enumerate(val_loader):\n",
        "        val_inputs, val_labels = val_data['images'], val_data['labels']\n",
        "        roi_size = (160, 160, 160)\n",
        "        sw_batch_size = 4\n",
        "        val_outputs = sliding_window_inference(\n",
        "                    val_inputs, roi_size, sw_batch_size, model)\n",
        "        \n",
        "        output = torch.argmax(val_outputs, dim=1)[0, :, :, slice_to_track].float()\n",
        "\n",
        "        aim_run.track(aim.Image(val_inputs[0, 0, :, :, slice_to_track], \\\n",
        "                                        caption=f'Input Image: {index}'), \\\n",
        "                               name='validation', context={'type':'input'})\n",
        "        aim_run.track(aim.Image(val_labels[0, 0, :, :, slice_to_track], \\\n",
        "                                caption=f'Label Image: {index}'), \\\n",
        "                        name='validation', context={'type':'label'})\n",
        "        aim_run.track(aim.Image(output, caption=f'Predicted Label: {index}'), \\\n",
        "                        name = 'predictions', context={'type':'labels'})\n",
        "                      \n",
        "        val_outputs = [post_pred(i) for i in decollate_batch(val_outputs)]\n",
        "        val_labels = [post_label(i) for i in decollate_batch(val_labels)]\n",
        "\n",
        "        metric = dice_metric.aggregate().item()\n",
        "        aim_run.track(metric, name=\"val_metric\", context={'type':loss_type})\n",
        "        dice_metric.reset()\n",
        "\n",
        "        metric_values.append(metric)\n",
        "        if metric > best_metric:\n",
        "          best_metric = metric\n",
        "          best_metric_epoch = epoch + 1\n",
        "          torch.save(model.state_dict(), os.path.join(\n",
        "              root_dir, \"best_metric_model.pth\"))\n",
        "          \n",
        "          best_model_log_message = f\"saved new best metric model at the {epoch+1}th epoch\"\n",
        "          aim_run.track(aim.Text(best_model_log_message), name='best_model_log_message', epoch=epoch+1)\n",
        "          print(best_model_log_message)\n",
        "                \n",
        "          message1 = f\"current epoch: {epoch + 1} current mean dice: {metric:.4f}\"\n",
        "          message2 = f\"\\nbest mean dice: {best_metric:.4f} \"\n",
        "          message3 = f\"at epoch: {best_metric_epoch}\"\n",
        "    \n",
        "          aim_run.track(aim.Text(message1 +\"\\n\" + message2 + message3), name='epoch_summary', epoch=epoch+1)\n",
        "          print(message1, message2, message3)\n",
        "\n",
        "\n",
        "\n",
        "\n",
        "\n",
        "\n",
        "\n",
        "\n",
        "\n",
        "\n",
        "        \n",
        "\n",
        "\n",
        "\n",
        "\n",
        "\n",
        "      \n",
        "\n",
        "\n",
        "\n"
      ],
      "metadata": {
        "colab": {
          "base_uri": "https://localhost:8080/",
          "height": 1000,
          "referenced_widgets": [
            "f40dc51365aa463585297efdd587a9a3",
            "96417df1d54b4b9f8a27d7dad344c356",
            "5f2cd938f98c4912be6deb3ee725d739",
            "710ed47803a14eeca6e65a7b22be1565",
            "6b889c70aafa483697cd053cecd764d1",
            "9065c878a43f4fecac438ddd742c3b8a",
            "205c65f6343f47e785120098633d4eac",
            "ce0a871c01854fda9e832312a15c5ea0",
            "a3a83c51c3794d9d83537c8f4e3c277f",
            "ee2cb0e17f044238ba9dd47d64233eca",
            "4ab59d25640c47a5a0cbbd6d2f60fccb"
          ]
        },
        "id": "Yk0eQkcoCfRP",
        "outputId": "f0c08773-3778-40ff-84af-08bf79376494"
      },
      "execution_count": null,
      "outputs": [
        {
          "output_type": "display_data",
          "data": {
            "text/plain": [
              "  0%|          | 0/600 [00:00<?, ?it/s]"
            ],
            "application/vnd.jupyter.widget-view+json": {
              "version_major": 2,
              "version_minor": 0,
              "model_id": "f40dc51365aa463585297efdd587a9a3"
            }
          },
          "metadata": {}
        },
        {
          "output_type": "stream",
          "name": "stdout",
          "text": [
            "1/16, train_loss: 0.6764\n",
            "2/16, train_loss: 0.6668\n",
            "3/16, train_loss: 0.6625\n",
            "4/16, train_loss: 0.6608\n",
            "5/16, train_loss: 0.6687\n",
            "6/16, train_loss: 0.6623\n",
            "7/16, train_loss: 0.6672\n",
            "8/16, train_loss: 0.6687\n",
            "9/16, train_loss: 0.6468\n",
            "10/16, train_loss: 0.6556\n",
            "11/16, train_loss: 0.6569\n",
            "12/16, train_loss: 0.6484\n",
            "13/16, train_loss: 0.6616\n",
            "14/16, train_loss: 0.6340\n",
            "15/16, train_loss: 0.6473\n",
            "16/16, train_loss: 0.6396\n",
            "epoch 1 average loss: 0.6577\n",
            "1/16, train_loss: 0.6441\n",
            "2/16, train_loss: 0.6322\n",
            "3/16, train_loss: 0.6527\n",
            "4/16, train_loss: 0.6289\n",
            "5/16, train_loss: 0.6383\n",
            "6/16, train_loss: 0.5996\n",
            "7/16, train_loss: 0.5848\n",
            "8/16, train_loss: 0.6449\n",
            "9/16, train_loss: 0.6404\n",
            "10/16, train_loss: 0.6216\n",
            "11/16, train_loss: 0.6223\n",
            "12/16, train_loss: 0.6291\n",
            "13/16, train_loss: 0.6470\n",
            "14/16, train_loss: 0.6160\n",
            "15/16, train_loss: 0.5905\n",
            "16/16, train_loss: 0.6253\n",
            "epoch 2 average loss: 0.6261\n",
            "1/16, train_loss: 0.6307\n",
            "2/16, train_loss: 0.6068\n",
            "3/16, train_loss: 0.6389\n",
            "4/16, train_loss: 0.6027\n",
            "5/16, train_loss: 0.5964\n",
            "6/16, train_loss: 0.5729\n",
            "7/16, train_loss: 0.6029\n",
            "8/16, train_loss: 0.5937\n",
            "9/16, train_loss: 0.6351\n",
            "10/16, train_loss: 0.5829\n",
            "11/16, train_loss: 0.6210\n",
            "12/16, train_loss: 0.6198\n",
            "13/16, train_loss: 0.5763\n",
            "14/16, train_loss: 0.5884\n",
            "15/16, train_loss: 0.6220\n",
            "16/16, train_loss: 0.6155\n",
            "epoch 3 average loss: 0.6066\n",
            "1/16, train_loss: 0.5848\n",
            "2/16, train_loss: 0.5639\n",
            "3/16, train_loss: 0.6116\n",
            "4/16, train_loss: 0.6312\n",
            "5/16, train_loss: 0.5982\n",
            "6/16, train_loss: 0.5506\n",
            "7/16, train_loss: 0.6208\n",
            "8/16, train_loss: 0.5963\n",
            "9/16, train_loss: 0.5759\n",
            "10/16, train_loss: 0.6108\n",
            "11/16, train_loss: 0.6059\n",
            "12/16, train_loss: 0.6351\n",
            "13/16, train_loss: 0.5839\n",
            "14/16, train_loss: 0.5994\n"
          ]
        }
      ]
    },
    {
      "cell_type": "code",
      "source": [
        "aim_run.close()"
      ],
      "metadata": {
        "id": "Ag5RAur-Q9Li"
      },
      "execution_count": null,
      "outputs": []
    },
    {
      "cell_type": "code",
      "source": [
        ""
      ],
      "metadata": {
        "id": "pLY5kT3VQ9SC"
      },
      "execution_count": null,
      "outputs": []
    },
    {
      "cell_type": "code",
      "source": [
        "\n",
        "\n",
        "print(\n",
        "    f\"train completed, best_metric: {best_metric:.4f} \"\n",
        "    f\"at epoch: {best_metric_epoch}\")\n",
        "\n"
      ],
      "metadata": {
        "id": "hzmMN1HqNLrV"
      },
      "execution_count": 46,
      "outputs": []
    },
    {
      "cell_type": "code",
      "source": [
        "%load_ext aim\n",
        "%aim up"
      ],
      "metadata": {
        "colab": {
          "base_uri": "https://localhost:8080/"
        },
        "id": "z9JZQhkUNdZH",
        "outputId": "cd940ad2-4458-4f6f-e6b7-81d7f903c617"
      },
      "execution_count": 47,
      "outputs": [
        {
          "output_type": "execute_result",
          "data": {
            "text/plain": [
              "torch.Size([4, 2, 96, 96, 96])"
            ]
          },
          "metadata": {},
          "execution_count": 47
        }
      ]
    },
    {
      "cell_type": "code",
      "source": [
        ""
      ],
      "metadata": {
        "id": "gcxLLl62K9QT"
      },
      "execution_count": null,
      "outputs": []
    }
  ]
}